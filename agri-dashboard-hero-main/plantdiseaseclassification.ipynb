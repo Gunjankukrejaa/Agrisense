{
 "cells": [
  {
   "cell_type": "code",
   "execution_count": null,
   "id": "e768c5de-98db-4a9c-b2ce-fcd5b9d044ba",
   "metadata": {},
   "outputs": [],
   "source": []
  }
 ],
 "metadata": {
  "kernelspec": {
   "display_name": "",
   "name": ""
  },
  "language_info": {
   "name": ""
  }
 },
 "nbformat": 4,
 "nbformat_minor": 5
}
